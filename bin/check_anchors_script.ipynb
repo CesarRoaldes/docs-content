{
 "cells": [
  {
   "cell_type": "code",
   "execution_count": 122,
   "id": "1f19b09f",
   "metadata": {},
   "outputs": [],
   "source": [
    "import os"
   ]
  },
  {
   "cell_type": "code",
   "execution_count": 123,
   "id": "5d9eaf32",
   "metadata": {},
   "outputs": [],
   "source": [
    "BASE_DIR = \"../serverless/messaging/how-to/\""
   ]
  },
  {
   "cell_type": "code",
   "execution_count": 124,
   "id": "6cb56242",
   "metadata": {},
   "outputs": [],
   "source": [
    "def get_markdown_files(base_dir):\n",
    "    md_files = []\n",
    "    for root, dirs, files in os.walk(base_dir):\n",
    "        for file in files:\n",
    "            if file.endswith(\".mdx\"):\n",
    "                md_files.append(os.path.join(root, file))\n",
    "    return md_files"
   ]
  },
  {
   "cell_type": "code",
   "execution_count": 125,
   "id": "d9ec5c2b",
   "metadata": {},
   "outputs": [],
   "source": [
    "md_files = get_markdown_files(BASE_DIR)"
   ]
  },
  {
   "cell_type": "code",
   "execution_count": 126,
   "id": "0de47c9f",
   "metadata": {},
   "outputs": [
    {
     "name": "stdout",
     "output_type": "stream",
     "text": [
      "['../serverless/messaging/how-to/create-credentials.mdx', '../serverless/messaging/how-to/monitor-mnq-cockpit.mdx', '../serverless/messaging/how-to/create-manage-queues.mdx', '../serverless/messaging/how-to/get-started.mdx', '../serverless/messaging/how-to/manage-credentials.mdx', '../serverless/messaging/how-to/deactivate-delete-messaging.mdx', '../serverless/messaging/how-to/create-manage-topics.mdx', '../serverless/messaging/how-to/create-manage-subscriptions.mdx', '../serverless/messaging/how-to/index.mdx']\n"
     ]
    }
   ],
   "source": [
    "print(md_files)"
   ]
  },
  {
   "cell_type": "code",
   "execution_count": 127,
   "id": "cb145406",
   "metadata": {},
   "outputs": [],
   "source": [
    "def clean_string(input_string):\n",
    "    # Remove everything before the first '/'\n",
    "    first_slash_index = input_string.find('/')\n",
    "    if first_slash_index != -1:\n",
    "        cleaned_string = input_string[first_slash_index + 1:]  # Get the substring after the first '/'\n",
    "    else:\n",
    "        cleaned_string = input_string  # If '/' not found, use the original string\n",
    "    \n",
    "    # Remove all occurrences of '.mdx'\n",
    "    cleaned_string = cleaned_string.replace('.mdx', '')\n",
    "\n",
    "    return cleaned_string"
   ]
  },
  {
   "cell_type": "code",
   "execution_count": 136,
   "id": "996ea396",
   "metadata": {},
   "outputs": [
    {
     "name": "stdout",
     "output_type": "stream",
     "text": [
      "Checking file ../serverless/messaging/how-to/create-credentials.mdx\n",
      "Checking file ../serverless/messaging/how-to/monitor-mnq-cockpit.mdx\n",
      "Checking file ../serverless/messaging/how-to/create-manage-queues.mdx\n",
      "Checking file ../serverless/messaging/how-to/get-started.mdx\n",
      "Checking file ../serverless/messaging/how-to/manage-credentials.mdx\n",
      "Checking file ../serverless/messaging/how-to/deactivate-delete-messaging.mdx\n",
      "Checking file ../serverless/messaging/how-to/create-manage-topics.mdx\n",
      "Checking file ../serverless/messaging/how-to/create-manage-subscriptions.mdx\n",
      "Checking file ../serverless/messaging/how-to/index.mdx\n"
     ]
    }
   ],
   "source": [
    "## FIND HEADERS\n",
    "\n",
    "\n",
    "\n",
    "for md_file in md_files:\n",
    "    \n",
    "    headers_in_file = []\n",
    "    anchor_links_in_file = []\n",
    "    \n",
    "    with open(md_file, 'r', encoding='utf-8') as file:\n",
    "        lines = file.readlines()\n",
    "        filename = str(md_file)\n",
    "        print(\"Checking file\", filename)\n",
    "    \n",
    "        for line in lines:\n",
    "            line = line.strip()\n",
    "            \n",
    "            ## Extract headers in anchor form\n",
    "            if line.startswith(\"##\"):\n",
    "                header = line.lstrip('#').strip()\n",
    "                header = header.lower().replace(' ', '-').replace('.', '').replace('\\'', '')\n",
    "                header = \"#\" + header\n",
    "                # rebuild anchor link so its a complete link\n",
    "                header = filename + header\n",
    "                header = clean_string(header)\n",
    "                headers_in_file.append(header)\n",
    "\n",
    "            ## Extract internal links to anchors on the page\n",
    "            if '](#' in line and ')' in line:\n",
    "                # Extract text inside the brackets [] and the link inside parentheses ()\n",
    "                start_link = line.find('](#') + 2\n",
    "                sep = ')'\n",
    "                anchor_link = line[start_link:].split(sep,1)[0]\n",
    "                # rebuild anchor link so its a complete link\n",
    "                anchor_link = filename + anchor_link\n",
    "                anchor_link = clean_string(anchor_link)\n",
    "                anchor_links_in_file.append(anchor_link)\n",
    "            \n",
    "            ## Extract internal links to anchors on other doc pages\n",
    "            if '](/' in line and ')' in line:\n",
    "                #continue here\n",
    "\n",
    "        ## Check whether there are links that aren't anchors in the file\n",
    "        for anchor_link in anchor_links_in_file:\n",
    "            if anchor_link not in headers_in_file:\n",
    "                print(\"In file\", [md_file], \"there is an internal link to non-existant anchor:\", anchor_link)\n"
   ]
  },
  {
   "cell_type": "code",
   "execution_count": 134,
   "id": "18a22ba3",
   "metadata": {},
   "outputs": [
    {
     "name": "stdout",
     "output_type": "stream",
     "text": [
      "[]\n"
     ]
    }
   ],
   "source": [
    "print(headers_in_file)"
   ]
  },
  {
   "cell_type": "code",
   "execution_count": null,
   "id": "d781eb6d",
   "metadata": {},
   "outputs": [],
   "source": []
  },
  {
   "cell_type": "code",
   "execution_count": null,
   "id": "b8933c87",
   "metadata": {},
   "outputs": [],
   "source": []
  }
 ],
 "metadata": {
  "kernelspec": {
   "display_name": "Python 3 (ipykernel)",
   "language": "python",
   "name": "python3"
  },
  "language_info": {
   "codemirror_mode": {
    "name": "ipython",
    "version": 3
   },
   "file_extension": ".py",
   "mimetype": "text/x-python",
   "name": "python",
   "nbconvert_exporter": "python",
   "pygments_lexer": "ipython3",
   "version": "3.10.9"
  }
 },
 "nbformat": 4,
 "nbformat_minor": 5
}
