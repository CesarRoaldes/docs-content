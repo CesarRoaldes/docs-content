{
 "cells": [
  {
   "cell_type": "code",
   "execution_count": 1,
   "id": "1f19b09f",
   "metadata": {},
   "outputs": [],
   "source": [
    "import os"
   ]
  },
  {
   "cell_type": "code",
   "execution_count": 13,
   "id": "5d9eaf32",
   "metadata": {},
   "outputs": [],
   "source": [
    "BASE_DIR = \"../serverless/messaging/\""
   ]
  },
  {
   "cell_type": "code",
   "execution_count": 14,
   "id": "6cb56242",
   "metadata": {},
   "outputs": [],
   "source": [
    "def get_markdown_files(base_dir):\n",
    "    md_files = []\n",
    "    for root, dirs, files in os.walk(base_dir):\n",
    "        for file in files:\n",
    "            if file.endswith(\".mdx\"):\n",
    "                md_files.append(os.path.join(root, file))\n",
    "    return md_files"
   ]
  },
  {
   "cell_type": "code",
   "execution_count": 15,
   "id": "d9ec5c2b",
   "metadata": {},
   "outputs": [],
   "source": [
    "md_files = get_markdown_files(BASE_DIR)"
   ]
  },
  {
   "cell_type": "code",
   "execution_count": 16,
   "id": "0de47c9f",
   "metadata": {},
   "outputs": [
    {
     "name": "stdout",
     "output_type": "stream",
     "text": [
      "['../serverless/messaging/quickstart.mdx', '../serverless/messaging/concepts.mdx', '../serverless/messaging/index.mdx', '../serverless/messaging/api-cli/sqs-sns-aws-cli.mdx', '../serverless/messaging/api-cli/nats-cli.mdx', '../serverless/messaging/api-cli/python-node-sns.mdx', '../serverless/messaging/api-cli/connect-aws-cli.mdx', '../serverless/messaging/api-cli/python-node-sqs.mdx', '../serverless/messaging/api-cli/index.mdx', '../serverless/messaging/reference-content/sns-support.mdx', '../serverless/messaging/reference-content/sqs-overview.mdx', '../serverless/messaging/reference-content/sqs-support.mdx', '../serverless/messaging/reference-content/sns-overview.mdx', '../serverless/messaging/reference-content/limitations.mdx', '../serverless/messaging/reference-content/nats-overview.mdx', '../serverless/messaging/reference-content/index.mdx', '../serverless/messaging/how-to/create-credentials.mdx', '../serverless/messaging/how-to/monitor-mnq-cockpit.mdx', '../serverless/messaging/how-to/create-manage-queues.mdx', '../serverless/messaging/how-to/get-started.mdx', '../serverless/messaging/how-to/manage-credentials.mdx', '../serverless/messaging/how-to/deactivate-delete-messaging.mdx', '../serverless/messaging/how-to/create-manage-topics.mdx', '../serverless/messaging/how-to/create-manage-subscriptions.mdx', '../serverless/messaging/how-to/index.mdx']\n"
     ]
    }
   ],
   "source": [
    "print(md_files)"
   ]
  },
  {
   "cell_type": "code",
   "execution_count": 17,
   "id": "cb145406",
   "metadata": {},
   "outputs": [],
   "source": [
    "def clean_string(input_string):\n",
    "    # Remove everything before the first '/'\n",
    "    first_slash_index = input_string.find('/')\n",
    "    if first_slash_index != -1:\n",
    "        cleaned_string = input_string[first_slash_index + 1:]  # Get the substring after the first '/'\n",
    "    else:\n",
    "        cleaned_string = input_string  # If '/' not found, use the original string\n",
    "    \n",
    "    # Remove all occurrences of '.mdx'\n",
    "    cleaned_string = cleaned_string.replace('.mdx', '')\n",
    "\n",
    "    return cleaned_string"
   ]
  },
  {
   "cell_type": "code",
   "execution_count": 31,
   "id": "996ea396",
   "metadata": {},
   "outputs": [
    {
     "name": "stdout",
     "output_type": "stream",
     "text": [
      "Checking file ../serverless/messaging/quickstart.mdx\n",
      "Checking file ../serverless/messaging/concepts.mdx\n",
      "checking anchor link /serverless/messaging/concepts#publishsubscribe\n",
      "In file ['../serverless/messaging/concepts.mdx'] there is an internal link to non-existant anchor: /serverless/messaging/concepts#publishsubscribe\n",
      "checking anchor link /serverless/messaging/concepts#fifo\n",
      "checking anchor link /serverless/messaging/concepts#standard\n",
      "checking anchor link /serverless/messaging/concepts#topic-based\n",
      "checking anchor link /serverless/messaging/concepts#queues\n",
      "checking anchor link /serverless/messaging/concepts#messaging-protocol\n",
      "checking anchor link /serverless/messaging/concepts#nats\n",
      "checking anchor link /serverless/messaging/concepts#nats\n",
      "checking anchor link /serverless/messaging/concepts#queuing\n",
      "checking anchor link /serverless/messaging/concepts#queue\n",
      "checking anchor link /serverless/messaging/concepts#sqs\n",
      "checking anchor link /serverless/messaging/concepts#standard\n",
      "checking anchor link /serverless/messaging/concepts#publishsubscribe\n",
      "In file ['../serverless/messaging/concepts.mdx'] there is an internal link to non-existant anchor: /serverless/messaging/concepts#publishsubscribe\n",
      "checking anchor link /serverless/messaging/concepts#topic-based\n",
      "checking anchor link /serverless/messaging/concepts#publishsubscribe\n",
      "In file ['../serverless/messaging/concepts.mdx'] there is an internal link to non-existant anchor: /serverless/messaging/concepts#publishsubscribe\n",
      "checking anchor link /serverless/messaging/concepts#queuing\n",
      "checking anchor link /serverless/messaging/concepts#fifo\n",
      "checking anchor link /serverless/messaging/concepts#publishsubscribe\n",
      "In file ['../serverless/messaging/concepts.mdx'] there is an internal link to non-existant anchor: /serverless/messaging/concepts#publishsubscribe\n",
      "checking anchor link /serverless/messaging/concepts#region\n",
      "checking anchor link /serverless/messaging/concepts#queue\n",
      "checking anchor link /serverless/messaging/concepts#standard\n",
      "checking anchor link /serverless/messaging/concepts#publishsubscribe\n",
      "In file ['../serverless/messaging/concepts.mdx'] there is an internal link to non-existant anchor: /serverless/messaging/concepts#publishsubscribe\n",
      "checking anchor link /serverless/messaging/concepts#sns\n",
      "Checking file ../serverless/messaging/index.mdx\n",
      "Checking file ../serverless/messaging/api-cli/sqs-sns-aws-cli.mdx\n",
      "Checking file ../serverless/messaging/api-cli/nats-cli.mdx\n",
      "Checking file ../serverless/messaging/api-cli/python-node-sns.mdx\n",
      "Checking file ../serverless/messaging/api-cli/connect-aws-cli.mdx\n",
      "Checking file ../serverless/messaging/api-cli/python-node-sqs.mdx\n",
      "Checking file ../serverless/messaging/api-cli/index.mdx\n",
      "Checking file ../serverless/messaging/reference-content/sns-support.mdx\n",
      "checking anchor link /serverless/messaging/reference-content/sns-support#sns-api-support-topic-attributes\n",
      "In file ['../serverless/messaging/reference-content/sns-support.mdx'] there is an internal link to non-existant anchor: /serverless/messaging/reference-content/sns-support#sns-api-support-topic-attributes\n",
      "checking anchor link /serverless/messaging/reference-content/sns-support#sns-api-support-subscription-attributes\n",
      "In file ['../serverless/messaging/reference-content/sns-support.mdx'] there is an internal link to non-existant anchor: /serverless/messaging/reference-content/sns-support#sns-api-support-subscription-attributes\n",
      "checking anchor link /serverless/messaging/reference-content/sns-support#sns-api-support-topic-attributes\n",
      "In file ['../serverless/messaging/reference-content/sns-support.mdx'] there is an internal link to non-existant anchor: /serverless/messaging/reference-content/sns-support#sns-api-support-topic-attributes\n",
      "checking anchor link /serverless/messaging/reference-content/sns-support#sns-api-support-topic-attributes\n",
      "In file ['../serverless/messaging/reference-content/sns-support.mdx'] there is an internal link to non-existant anchor: /serverless/messaging/reference-content/sns-support#sns-api-support-topic-attributes\n",
      "checking anchor link /serverless/messaging/reference-content/sns-support#sns-api-support-subscription-attributes\n",
      "In file ['../serverless/messaging/reference-content/sns-support.mdx'] there is an internal link to non-existant anchor: /serverless/messaging/reference-content/sns-support#sns-api-support-subscription-attributes\n",
      "checking anchor link /serverless/messaging/reference-content/sns-support#sns-api-support-subscription-attributes\n",
      "In file ['../serverless/messaging/reference-content/sns-support.mdx'] there is an internal link to non-existant anchor: /serverless/messaging/reference-content/sns-support#sns-api-support-subscription-attributes\n",
      "Checking file ../serverless/messaging/reference-content/sqs-overview.mdx\n",
      "Checking file ../serverless/messaging/reference-content/sqs-support.mdx\n",
      "checking anchor link /serverless/messaging/reference-content/sqs-support#sqs-api-support-queue-attributes\n",
      "In file ['../serverless/messaging/reference-content/sqs-support.mdx'] there is an internal link to non-existant anchor: /serverless/messaging/reference-content/sqs-support#sqs-api-support-queue-attributes\n",
      "checking anchor link /serverless/messaging/reference-content/sqs-support#sqs-api-support-message-attributes\n",
      "In file ['../serverless/messaging/reference-content/sqs-support.mdx'] there is an internal link to non-existant anchor: /serverless/messaging/reference-content/sqs-support#sqs-api-support-message-attributes\n",
      "checking anchor link /serverless/messaging/reference-content/sqs-support#sqs-api-support-message-attributes\n",
      "In file ['../serverless/messaging/reference-content/sqs-support.mdx'] there is an internal link to non-existant anchor: /serverless/messaging/reference-content/sqs-support#sqs-api-support-message-attributes\n",
      "checking anchor link /serverless/messaging/reference-content/sqs-support#sqs-api-support-queue-attributes\n",
      "In file ['../serverless/messaging/reference-content/sqs-support.mdx'] there is an internal link to non-existant anchor: /serverless/messaging/reference-content/sqs-support#sqs-api-support-queue-attributes\n",
      "checking anchor link /serverless/messaging/reference-content/sqs-support#sqs-api-support-queue-attributes\n",
      "In file ['../serverless/messaging/reference-content/sqs-support.mdx'] there is an internal link to non-existant anchor: /serverless/messaging/reference-content/sqs-support#sqs-api-support-queue-attributes\n",
      "checking anchor link /serverless/messaging/reference-content/sqs-support#sqs-api-support-queue-attributes\n",
      "In file ['../serverless/messaging/reference-content/sqs-support.mdx'] there is an internal link to non-existant anchor: /serverless/messaging/reference-content/sqs-support#sqs-api-support-queue-attributes\n",
      "checking anchor link /serverless/messaging/reference-content/sqs-support#changemessagevisibility\n",
      "Checking file ../serverless/messaging/reference-content/sns-overview.mdx\n",
      "Checking file ../serverless/messaging/reference-content/limitations.mdx\n",
      "Checking file ../serverless/messaging/reference-content/nats-overview.mdx\n",
      "Checking file ../serverless/messaging/reference-content/index.mdx\n",
      "Checking file ../serverless/messaging/how-to/create-credentials.mdx\n",
      "Checking file ../serverless/messaging/how-to/monitor-mnq-cockpit.mdx\n",
      "Checking file ../serverless/messaging/how-to/create-manage-queues.mdx\n",
      "Checking file ../serverless/messaging/how-to/get-started.mdx\n",
      "Checking file ../serverless/messaging/how-to/manage-credentials.mdx\n",
      "Checking file ../serverless/messaging/how-to/deactivate-delete-messaging.mdx\n",
      "Checking file ../serverless/messaging/how-to/create-manage-topics.mdx\n",
      "Checking file ../serverless/messaging/how-to/create-manage-subscriptions.mdx\n",
      "Checking file ../serverless/messaging/how-to/index.mdx\n"
     ]
    }
   ],
   "source": [
    "## FIND HEADERS\n",
    "\n",
    "for md_file in md_files:\n",
    "    \n",
    "    headers_in_file = []\n",
    "    anchor_links_in_file = []\n",
    "    links_to_anchors_in_other_files = []\n",
    "    \n",
    "    with open(md_file, 'r', encoding='utf-8') as file:\n",
    "        lines = file.readlines()\n",
    "        filename = str(md_file)\n",
    "        print(\"Checking file\", filename)\n",
    "    \n",
    "        for line in lines:\n",
    "            line = line.strip()\n",
    "            \n",
    "            ## Extract headers in anchor form\n",
    "            if line.startswith(\"##\"):\n",
    "                header = line.lstrip('#').strip()\n",
    "                header = header.lower().replace(' ', '-').replace('.', '').replace('\\'', '')\n",
    "                header = \"#\" + header\n",
    "                # rebuild anchor link so its a complete link\n",
    "                header = \"/\" + filename[2:] + header\n",
    "                header = clean_string(header)\n",
    "                headers_in_file.append(header)\n",
    "\n",
    "            ## Extract internal links to anchors on the page\n",
    "            if '](#' in line and ')' in line:\n",
    "                # Extract text inside the brackets [] and the link inside parentheses ()\n",
    "                start_link = line.find('](#') + 2\n",
    "                sep = ')'\n",
    "                anchor_link = line[start_link:].split(sep,1)[0]\n",
    "                # rebuild anchor link so its a complete link\n",
    "                anchor_link = '/' + filename[2:] + anchor_link\n",
    "                anchor_link = clean_string(anchor_link)\n",
    "                anchor_links_in_file.append(anchor_link)\n",
    "            \n",
    "            ## Extract internal links to anchors on other doc pages\n",
    "            if '](/' in line and ')' in line and '#' in line:\n",
    "                start_link = line.find('](/') + 2\n",
    "                sep = ')'\n",
    "                link_to_anchors_in_other_file = line[start_link:].split(sep,1)[0]\n",
    "                links_to_anchors_in_other_files.append(link_to_anchors_in_other_file)\n",
    "                \n",
    "        ## Check whether there are links that aren't anchors in the file\n",
    "        for anchor_link in anchor_links_in_file:\n",
    "            print(\"checking anchor link\", anchor_link)\n",
    "            if anchor_link not in headers_in_file:\n",
    "                print(\"In file\", [md_file], \"there is an internal link to non-existant anchor:\", anchor_link)\n"
   ]
  },
  {
   "cell_type": "code",
   "execution_count": 8,
   "id": "18a22ba3",
   "metadata": {},
   "outputs": [
    {
     "ename": "NameError",
     "evalue": "name 'headers_in_file' is not defined",
     "output_type": "error",
     "traceback": [
      "\u001b[0;31m---------------------------------------------------------------------------\u001b[0m",
      "\u001b[0;31mNameError\u001b[0m                                 Traceback (most recent call last)",
      "Cell \u001b[0;32mIn[8], line 1\u001b[0m\n\u001b[0;32m----> 1\u001b[0m \u001b[38;5;28mprint\u001b[39m(\u001b[43mheaders_in_file\u001b[49m)\n",
      "\u001b[0;31mNameError\u001b[0m: name 'headers_in_file' is not defined"
     ]
    }
   ],
   "source": [
    "print(headers_in_file)"
   ]
  },
  {
   "cell_type": "code",
   "execution_count": null,
   "id": "d781eb6d",
   "metadata": {},
   "outputs": [],
   "source": []
  },
  {
   "cell_type": "code",
   "execution_count": null,
   "id": "b8933c87",
   "metadata": {},
   "outputs": [],
   "source": []
  }
 ],
 "metadata": {
  "kernelspec": {
   "display_name": "Python 3 (ipykernel)",
   "language": "python",
   "name": "python3"
  },
  "language_info": {
   "codemirror_mode": {
    "name": "ipython",
    "version": 3
   },
   "file_extension": ".py",
   "mimetype": "text/x-python",
   "name": "python",
   "nbconvert_exporter": "python",
   "pygments_lexer": "ipython3",
   "version": "3.10.9"
  }
 },
 "nbformat": 4,
 "nbformat_minor": 5
}
